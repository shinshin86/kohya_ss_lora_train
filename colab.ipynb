{
  "nbformat": 4,
  "nbformat_minor": 0,
  "metadata": {
    "kernelspec": {
      "name": "python3",
      "display_name": "Python 3"
    },
    "language_info": {
      "name": "python"
    },
    "accelerator": "GPU"
  },
  "cells": [
    {
      "cell_type": "code",
      "source": [
        "#@title Setup kohya_ss_lora_train\n",
        "\n",
        "# Make work dirs\n",
        "!mkdir /content/kohya_ss_lora_train\n",
        "!mkdir /content/kohya_ss_lora_train/train\n",
        "!mkdir /content/kohya_ss_lora_train/output\n",
        "!mkdir /content/kohya_ss_lora_train/custom_model\n",
        "\n",
        "# Setup Dataset Tag Editor Standalone\n",
        "%cd /content/kohya_ss_lora_train\n",
        "!git clone https://github.com/toshiaki1729/dataset-tag-editor-standalone.git\n",
        "%cd /content/kohya_ss_lora_train/dataset-tag-editor-standalone\n",
        "!pip install -r requirements.txt\n",
        "\n",
        "# Setup kohya_ss\n",
        "%cd /content/kohya_ss_lora_train\n",
        "!git clone https://github.com/bmaltais/kohya_ss.git\n",
        "%cd /content/kohya_ss_lora_train/kohya_ss\n",
        "!pip install https://download.pytorch.org/whl/cu118/xformers-0.0.22.post4%2Bcu118-cp310-cp310-manylinux2014_x86_64.whl\n",
        "!pip install tensorboard==2.14.1 tensorflow==2.14.0 bitsandbytes==0.41.1 kaleido fastapi python-multipart uvicorn\n",
        "!pip install -r requirements.txt"
      ],
      "metadata": {},
      "execution_count": null,
      "outputs": []
    },
    {
      "cell_type": "code",
      "source": [
        "#@title Start Dataset Tag Editor Standalone\n",
        "%cd /content/kohya_ss_lora_train/dataset-tag-editor-standalone\n",
        "!python3 scripts/launch.py --share"
      ],
      "metadata": {},
      "execution_count": null,
      "outputs": []
    },
    {
      "cell_type": "code",
      "source": [
        "#@title Start kohya_ss\n",
        "%cd /content/kohya_ss_lora_train/kohya_ss\n",
        "!python kohya_gui.py --share"
      ],
      "metadata": {},
      "execution_count": null,
      "outputs": []
    }
  ]
}
